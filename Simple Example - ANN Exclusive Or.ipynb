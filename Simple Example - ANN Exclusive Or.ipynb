{
 "cells": [
  {
   "cell_type": "code",
   "execution_count": 1,
   "metadata": {
    "collapsed": false
   },
   "outputs": [],
   "source": [
    "%matplotlib inline\n",
    "\n",
    "import matplotlib\n",
    "import numpy as np\n",
    "import matplotlib.pyplot as plt"
   ]
  },
  {
   "cell_type": "code",
   "execution_count": 2,
   "metadata": {
    "collapsed": false
   },
   "outputs": [
    {
     "data": {
      "image/png": "[encoded data removed]",
      "text/plain": [
       "<matplotlib.figure.Figure at 0x5d4a450>"
      ]
     },
     "metadata": {},
     "output_type": "display_data"
    }
   ],
   "source": [
    "#XOR no hidden layers\n",
    "\n",
    "#Initialize test vectors for plotting\n",
    "a1 = [0, 0]\n",
    "a2 = [0, 1]\n",
    "a3 = [1, 0]\n",
    "a4 = [1, 1]\n",
    "\n",
    "# Plot setup\n",
    "f, ((ax1, ax2), (ax3, ax4)) = plt.subplots(2, 2, sharex='col', sharey='row')\n",
    "ax1.set_title('(0, 0) Input')\n",
    "ax2.set_title('(0, 1) Input')\n",
    "ax3.set_title('(1, 0) Input')\n",
    "ax4.set_title('(1, 1) Input')\n",
    "\n",
    "def nonlin(x,deriv=False):\n",
    "    if(deriv==True):\n",
    "        return x*(1-x)\n",
    "\n",
    "    return 1/(1+np.exp(-x))\n",
    "    \n",
    "x_train = np.array([    [0, 0],\n",
    "                        [0, 1],\n",
    "                        [1, 0],\n",
    "                        [1, 1]])\n",
    "\n",
    "y_train = np.array([[0, 1, 1, 0]]).T\n",
    "\n",
    "np.random.seed(1)\n",
    "\n",
    "syn0 = 2*np.random.random((2,1)) - 1\n",
    "\n",
    "#10,000 iterations\n",
    "for i in range(0, 10000):\n",
    "    #propagation\n",
    "    l0 = x_train\n",
    "    l1 = nonlin(np.dot(l0,syn0))\n",
    "    \n",
    "    #compute error\n",
    "    l1_error = y_train - l1\n",
    "\n",
    "    #compute weight delta\n",
    "    l1_delta = l1_error * nonlin(l1,True)\n",
    "\n",
    "        \n",
    "    #update weights\n",
    "    syn0 += np.dot(l0.T,l1_delta)\n",
    "\n",
    "    if i%100 == 0:\n",
    "        output1 = nonlin(np.dot(a1, syn0))\n",
    "        ax1.plot(i, output1, 'ro', markersize=3)    \n",
    "    \n",
    "        output2 = nonlin(np.dot(a2, syn0))\n",
    "        ax2.plot(i, output2, 'bo', markersize=3)    \n",
    "    \n",
    "        output3 = nonlin(np.dot(a3, syn0))\n",
    "        ax3.plot(i, output3, 'go', markersize=3)    \n",
    "    \n",
    "        output4 = nonlin(np.dot(a4, syn0))\n",
    "        ax4.plot(i, output4, 'mo', markersize=3)\n",
    "        \n",
    "plt.show()"
   ]
  },
  {
   "cell_type": "code",
   "execution_count": 2,
   "metadata": {
    "collapsed": false
   },
   "outputs": [
    {
     "data": {
      "image/png": "[encoded data removed]",
      "text/plain": [
       "<matplotlib.figure.Figure at 0x59c2d50>"
      ]
     },
     "metadata": {},
     "output_type": "display_data"
    }
   ],
   "source": [
    "#XOR One hidden layer\n",
    "\n",
    "#Initialize test vectors for plotting progress\n",
    "a1 = [0, 0]\n",
    "a2 = [0, 1]\n",
    "a3 = [1, 0]\n",
    "a4 = [1, 1]\n",
    "\n",
    "# Plot setup\n",
    "f, ((ax1, ax2), (ax3, ax4)) = plt.subplots(2, 2, sharex='col', sharey='row')\n",
    "ax1.set_title('(0, 0) Input')\n",
    "ax2.set_title('(0, 1) Input')\n",
    "ax3.set_title('(1, 0) Input')\n",
    "ax4.set_title('(1, 1) Input')\n",
    "\n",
    "def nonlin(x,deriv=False):\n",
    "    if(deriv==True):\n",
    "        return x*(1-x)\n",
    "\n",
    "    return 1/(1+np.exp(-x))\n",
    "    \n",
    "x_train = np.array([    [0, 0],\n",
    "                        [0, 1],\n",
    "                        [1, 0],\n",
    "                        [1, 1]])\n",
    "\n",
    "y_train = np.array([[0, 1, 1, 0]]).T\n",
    "\n",
    "np.random.seed(1)\n",
    "syn0 = 2*np.random.random((2, 4)) - 1\n",
    "syn1 = 2*np.random.random((4, 1)) - 1\n",
    "\n",
    "for i in range(0, 10000):\n",
    "    #propagation\n",
    "    l0 = x_train\n",
    "    l1 = nonlin(np.dot(l0,syn0))\n",
    "    l2 = nonlin(np.dot(l1,syn1))\n",
    "    \n",
    "    #compute error, weight delta\n",
    "    l2_error = y_train - l2\n",
    "    l2_delta = l2_error * nonlin(l2,True)\n",
    "    \n",
    "    #compute error, weight delta\n",
    "    l1_error = l2_delta.dot(syn1.T)\n",
    "    l1_delta = l1_error * nonlin(l1,True)\n",
    "    \n",
    "    syn1 += np.dot(l1.T,l2_delta)\n",
    "    syn0 += np.dot(l0.T,l1_delta)\n",
    "    \n",
    "    if i%100 == 0:\n",
    "        output1 = nonlin(np.dot( nonlin(np.dot(a1, syn0)), syn1))\n",
    "        ax1.plot(i, output1, 'ro', markersize=3)    \n",
    "    \n",
    "        output2 = nonlin(np.dot( nonlin(np.dot(a2, syn0)), syn1))\n",
    "        ax2.plot(i, output2, 'bo', markersize=3)    \n",
    "    \n",
    "        output3 = nonlin(np.dot( nonlin(np.dot(a3, syn0)), syn1))\n",
    "        ax3.plot(i, output3, 'go', markersize=3)    \n",
    "    \n",
    "        output4 = nonlin(np.dot( nonlin(np.dot(a4, syn0)), syn1))\n",
    "        ax4.plot(i, output4, 'mo', markersize=3)\n",
    "        \n",
    "plt.show()\n"
   ]
  },
  {
   "cell_type": "code",
   "execution_count": null,
   "metadata": {
    "collapsed": false
   },
   "outputs": [],
   "source": []
  },
  {
   "cell_type": "code",
   "execution_count": null,
   "metadata": {
    "collapsed": true
   },
   "outputs": [],
   "source": []
  }
 ],
 "metadata": {
  "kernelspec": {
   "display_name": "Python 2",
   "language": "python",
   "name": "python2"
  },
  "language_info": {
   "codemirror_mode": {
    "name": "ipython",
    "version": 2
   },
   "file_extension": ".py",
   "mimetype": "text/x-python",
   "name": "python",
   "nbconvert_exporter": "python",
   "pygments_lexer": "ipython2",
   "version": "2.7.10"
  }
 },
 "nbformat": 4,
 "nbformat_minor": 0
}
